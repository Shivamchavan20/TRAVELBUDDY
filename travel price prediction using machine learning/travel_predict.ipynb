{
  "nbformat": 4,
  "nbformat_minor": 0,
  "metadata": {
    "colab": {
      "provenance": []
    },
    "kernelspec": {
      "name": "python3",
      "display_name": "Python 3"
    },
    "language_info": {
      "name": "python"
    }
  },
  "cells": [
    {
      "cell_type": "code",
      "execution_count": 5,
      "metadata": {
        "colab": {
          "base_uri": "https://localhost:8080/"
        },
        "id": "9oRjkwWoA_6-",
        "outputId": "c7ac719c-f8e8-4e7a-8acf-111c56f2f27f"
      },
      "outputs": [
        {
          "output_type": "stream",
          "name": "stdout",
          "text": [
            "Model Evaluation:\n",
            "Mean Squared Error: 125945473929.17\n",
            "R^2 Score: 0.18\n",
            "\n",
            "Available options:\n",
            "Locations: Goa, Mumbai, Pune, Kolhapur, Nashik\n",
            "Enter the location from the above options: Pune\n",
            "Accommodation Types: 4-Star, 5-Star, 3-Star, 2-Star, 1-Star\n",
            "Enter the accommodation type (1-5 star): 5\n",
            "Starting Cities: Nashik, Goa, Kolhapur, Pune, Mumbai\n",
            "Enter the starting city from the above options: Goa\n",
            "Vehicles: Car, Aeroplane, Bus, Train\n",
            "Enter the vehicle from the above options: Bus\n",
            "Enter the number of people: 2\n",
            "Enter the number of days: 3\n",
            "\n",
            "The predicted price for your trip is: ₹36755.60\n"
          ]
        }
      ],
      "source": [
        "import pandas as pd\n",
        "from sklearn.model_selection import train_test_split\n",
        "from sklearn.ensemble import RandomForestRegressor\n",
        "from sklearn.metrics import mean_squared_error, r2_score\n",
        "\n",
        "# Load the dataset\n",
        "file_path = \"ssh.csv\"  # Replace with your file path\n",
        "df = pd.read_csv(file_path)\n",
        "\n",
        "# Display options for user input\n",
        "def get_user_input(df):\n",
        "    print(\"\\nAvailable options:\")\n",
        "\n",
        "    # Options for location\n",
        "    locations = df['Location'].unique()\n",
        "    print(f\"Locations: {', '.join(locations)}\")\n",
        "    location = input(\"Enter the location from the above options: \")\n",
        "\n",
        "    # Options for accommodation type\n",
        "    accommodation_types = df['Accommodation_Type'].unique()\n",
        "    print(f\"Accommodation Types: {', '.join(map(str, accommodation_types))}\")\n",
        "    accommodation_type = int(input(\"Enter the accommodation type (1-5 star): \"))\n",
        "\n",
        "    # Options for starting city\n",
        "    starting_cities = df['Starting_City'].unique()\n",
        "    print(f\"Starting Cities: {', '.join(starting_cities)}\")\n",
        "    starting_city = input(\"Enter the starting city from the above options: \")\n",
        "\n",
        "    # Options for vehicle\n",
        "    vehicles = df['Vehicle'].unique()\n",
        "    print(f\"Vehicles: {', '.join(vehicles)}\")\n",
        "    vehicle = input(\"Enter the vehicle from the above options: \")\n",
        "\n",
        "    # Get number of people and days\n",
        "    number_of_people = int(input(\"Enter the number of people: \"))\n",
        "    number_of_days = int(input(\"Enter the number of days: \"))\n",
        "\n",
        "    return {\n",
        "        'Location': location,\n",
        "        'Accommodation_Type': accommodation_type,\n",
        "        'Starting_City': starting_city,\n",
        "        'Vehicle': vehicle,\n",
        "        'Number_of_People': number_of_people,\n",
        "        'Number_of_Days': number_of_days\n",
        "    }\n",
        "\n",
        "# Prepare features (X) and target (y)\n",
        "X = df[['Location', 'Accommodation_Type', 'Starting_City', 'Vehicle', 'Number_of_People', 'Number_of_Days']]\n",
        "y = df['Total_Cost']\n",
        "\n",
        "# Convert categorical variables to numeric using one-hot encoding\n",
        "X = pd.get_dummies(X, drop_first=True)\n",
        "\n",
        "# Train-test split\n",
        "X_train, X_test, y_train, y_test = train_test_split(X, y, test_size=0.2, random_state=42)\n",
        "\n",
        "# Train the model\n",
        "model = RandomForestRegressor(random_state=42)\n",
        "model.fit(X_train, y_train)\n",
        "\n",
        "# Evaluate the model\n",
        "y_pred = model.predict(X_test)\n",
        "mse = mean_squared_error(y_test, y_pred)\n",
        "r2 = r2_score(y_test, y_pred)\n",
        "print(f\"Model Evaluation:\\nMean Squared Error: {mse:.2f}\\nR^2 Score: {r2:.2f}\")\n",
        "\n",
        "# Get user input and predict the price\n",
        "user_input = get_user_input(df)\n",
        "user_df = pd.DataFrame([user_input])\n",
        "\n",
        "# Convert user input into the same format as training data\n",
        "user_df = pd.get_dummies(user_df, drop_first=True)\n",
        "\n",
        "# Align columns of user_df with X\n",
        "user_df = user_df.reindex(columns=X.columns, fill_value=0)\n",
        "\n",
        "# Predict the price\n",
        "predicted_price = model.predict(user_df)[0]\n",
        "print(f\"\\nThe predicted price for your trip is: ₹{predicted_price:.2f}\")\n"
      ]
    }
  ]
}